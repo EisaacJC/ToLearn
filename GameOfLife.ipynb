{
  "nbformat": 4,
  "nbformat_minor": 0,
  "metadata": {
    "colab": {
      "name": "GameOfLife.ipynb",
      "provenance": [],
      "include_colab_link": true
    },
    "kernelspec": {
      "name": "python3",
      "display_name": "Python 3"
    }
  },
  "cells": [
    {
      "cell_type": "markdown",
      "metadata": {
        "id": "view-in-github",
        "colab_type": "text"
      },
      "source": [
        "<a href=\"https://colab.research.google.com/github/EisaacJC/ToLearn/blob/master/GameOfLife.ipynb\" target=\"_parent\"><img src=\"https://colab.research.google.com/assets/colab-badge.svg\" alt=\"Open In Colab\"/></a>"
      ]
    },
    {
      "cell_type": "markdown",
      "metadata": {
        "id": "DF3RViYJ5nq2",
        "colab_type": "text"
      },
      "source": [
        "#Juego de la vida \n",
        "El juego de la vida debe satisfacer las siguientes condiciones.\n",
        "\n",
        "\n",
        "1.   Cualquier celda viva con dos o tres vecinos vivos sobrevive.\n",
        "2.   Cualquier celda muerta con tres vecinos vivos se convierte en una celda viva.\n",
        "3. Cualquier otra celda viva muere en la generación siguiente, de manera similar, las veldas muertas permanecen muertas.\n",
        "\n"
      ]
    },
    {
      "cell_type": "code",
      "metadata": {
        "id": "oN_1FTYlT5St",
        "colab_type": "code",
        "colab": {}
      },
      "source": [
        "#Importamos librerías y modulos a ocupar en el programa\n",
        "import numpy as np\n",
        "import matplotlib.pyplot as plt\n",
        "from matplotlib.pyplot import imshow\n"
      ],
      "execution_count": 0,
      "outputs": []
    },
    {
      "cell_type": "markdown",
      "metadata": {
        "id": "UxWXubGOBPWo",
        "colab_type": "text"
      },
      "source": [
        "## Se realiza la entrada de la dimensión de las matrices con las que se va a trabajar"
      ]
    },
    {
      "cell_type": "code",
      "metadata": {
        "id": "MY5dMGHMVcyO",
        "colab_type": "code",
        "outputId": "e05d919a-6f2a-4d7b-f356-1d3366af74ba",
        "colab": {
          "base_uri": "https://localhost:8080/",
          "height": 34
        }
      },
      "source": [
        "#Creamos dos matrieces de dimensiones m*m\n",
        "m=int(input(\"Cantidad de elementos de la matrix\"))"
      ],
      "execution_count": 19,
      "outputs": [
        {
          "output_type": "stream",
          "text": [
            "Cantidad de elementos de la matrix30\n"
          ],
          "name": "stdout"
        }
      ]
    },
    {
      "cell_type": "markdown",
      "metadata": {
        "id": "BxQXlYIFBYFx",
        "colab_type": "text"
      },
      "source": [
        "## Se crea la matriz aleatoria que servirá de \"semilla\" y se muestra en un plot de color"
      ]
    },
    {
      "cell_type": "code",
      "metadata": {
        "id": "VzBBXHMNij4Z",
        "colab_type": "code",
        "outputId": "4094deeb-1088-4331-fb5f-ac44e2b5bb25",
        "colab": {
          "base_uri": "https://localhost:8080/",
          "height": 266
        }
      },
      "source": [
        "B=np.random.random((m+1,m+1))\n",
        "B[0,:]=0\n",
        "B[:,0]=0\n",
        "B[m,:]=0\n",
        "B[:,m]=0\n",
        "plt.imshow(B);\n",
        "plt.colorbar()\n",
        "plt.show()"
      ],
      "execution_count": 78,
      "outputs": [
        {
          "output_type": "display_data",
          "data": {
            "image/png": "[encoded data removed]",
            "text/plain": [
              "<Figure size 432x288 with 2 Axes>"
            ]
          },
          "metadata": {
            "tags": []
          }
        }
      ]
    },
    {
      "cell_type": "markdown",
      "metadata": {
        "id": "OnUf1KEZBj70",
        "colab_type": "text"
      },
      "source": [
        "### Se realiza la condición de que celdas se mantienen vivas o muertas, el criterio en este caso es dado los números aleatorios que se encuentran en cada celda de la matriz, elegimos que aquellas con un valor menor o igual a .75 serán celdas muertas y aquellas con un valor mayor serán celdas vivas"
      ]
    },
    {
      "cell_type": "code",
      "metadata": {
        "id": "2J_6afI2WVdl",
        "colab_type": "code",
        "colab": {}
      },
      "source": [
        "#Condición de vivas o muertas \n",
        "B[B<= .85]=0; B[B>.85]=1"
      ],
      "execution_count": 0,
      "outputs": []
    },
    {
      "cell_type": "code",
      "metadata": {
        "id": "_Nls-7suX0u8",
        "colab_type": "code",
        "outputId": "35d77f76-b535-49c0-a7b6-bcf8e80aecd7",
        "colab": {
          "base_uri": "https://localhost:8080/",
          "height": 269
        }
      },
      "source": [
        "plt.imshow(B);\n",
        "plt.colorbar()\n",
        "plt.show()"
      ],
      "execution_count": 80,
      "outputs": [
        {
          "output_type": "display_data",
          "data": {
            "image/png": "[encoded data removed]",
            "text/plain": [
              "<Figure size 432x288 with 2 Axes>"
            ]
          },
          "metadata": {
            "tags": []
          }
        }
      ]
    },
    {
      "cell_type": "code",
      "metadata": {
        "id": "xbG7xlLhabSq",
        "colab_type": "code",
        "colab": {}
      },
      "source": [
        "#imprimiendo la dimensión de la matriz solicitada print(len(B))\n",
        "grid=np.copy(B)"
      ],
      "execution_count": 0,
      "outputs": []
    },
    {
      "cell_type": "markdown",
      "metadata": {
        "id": "DixlC-ScB7R1",
        "colab_type": "text"
      },
      "source": [
        "#Condiciones\n",
        "Se muestran las condiciones que se mencionaron al inicio del programa dentro de una función de evolución, lo que hace esta es tomar la matriz grid y ver su comportamiento, igualarla a B en cada iteración para que este sea un \"paso\" en la etapa de evolución\n"
      ]
    },
    {
      "cell_type": "code",
      "metadata": {
        "id": "6zNrTRl8YD6y",
        "colab_type": "code",
        "colab": {}
      },
      "source": [
        "#Probable 1\n",
        "# La matriz B es la matriz del tablero\n",
        "def evolucion(B,grid,iters):\n",
        "    for k in range(0,iters):\n",
        "        for i in range (1, len(B)-1):\n",
        "            for j in range (1, len(B)-1):\n",
        "                if grid[i,j]==1:\n",
        "                    if ((grid[i-1,j-1]+grid[i,j-1]+grid[i+1,j-1]+grid[i-1,j]+grid[i+1,j]+grid[i-1,j+1]+grid[i,j+1]+grid[i+1,j+1])< 2) or ((grid[i-1,j-1]+grid[i,j-1]+grid[i+1,j-1]+grid[i-1,j]+grid[i+1,j]+grid[i-1,j+1]+grid[i,j+1]+grid[i+1,j+1]) >3):\n",
        "                        B[i,j]=0\n",
        "                    else:\n",
        "                        pass\n",
        "                elif grid[i,j]==0:\n",
        "                    if (grid[i-1,j-1]+grid[i,j-1]+grid[i+1,j-1]+grid[i-1,j]+grid[i+1,j]+grid[i-1,j+1]+grid[i,j+1]+grid[i+1,j+1]) == 3:\n",
        "                        B[i,j]=1\n",
        "                    else:\n",
        "                        B[i,j]=0\n",
        "                else:\n",
        "                    pass\n",
        "        grid=B\n",
        "        plt.imshow(grid)\n",
        "        plt.show()\n",
        "    "
      ],
      "execution_count": 0,
      "outputs": []
    },
    {
      "cell_type": "code",
      "metadata": {
        "id": "KJIbxlxNo1G2",
        "colab_type": "code",
        "outputId": "4dce3933-a667-4c2b-c1db-5e632b174156",
        "colab": {
          "base_uri": "https://localhost:8080/",
          "height": 1000
        }
      },
      "source": [
        "evolucion(B,grid, 10)"
      ],
      "execution_count": 83,
      "outputs": [
        {
          "output_type": "display_data",
          "data": {
            "image/png": "[encoded data removed]",
            "text/plain": [
              "<Figure size 432x288 with 1 Axes>"
            ]
          },
          "metadata": {
            "tags": []
          }
        },
        {
          "output_type": "display_data",
          "data": {
            "image/png": "[encoded data removed]",
            "text/plain": [
              "<Figure size 432x288 with 1 Axes>"
            ]
          },
          "metadata": {
            "tags": []
          }
        },
        {
          "output_type": "display_data",
          "data": {
            "image/png": "[encoded data removed]",
            "text/plain": [
              "<Figure size 432x288 with 1 Axes>"
            ]
          },
          "metadata": {
            "tags": []
          }
        },
        {
          "output_type": "display_data",
          "data": {
            "image/png": "[encoded data removed]",
            "text/plain": [
              "<Figure size 432x288 with 1 Axes>"
            ]
          },
          "metadata": {
            "tags": []
          }
        },
        {
          "output_type": "display_data",
          "data": {
            "image/png": "[encoded data removed]",
            "text/plain": [
              "<Figure size 432x288 with 1 Axes>"
            ]
          },
          "metadata": {
            "tags": []
          }
        },
        {
          "output_type": "display_data",
          "data": {
            "image/png": "[encoded data removed]",
            "text/plain": [
              "<Figure size 432x288 with 1 Axes>"
            ]
          },
          "metadata": {
            "tags": []
          }
        },
        {
          "output_type": "display_data",
          "data": {
            "image/png": "[encoded data removed]",
            "text/plain": [
              "<Figure size 432x288 with 1 Axes>"
            ]
          },
          "metadata": {
            "tags": []
          }
        },
        {
          "output_type": "display_data",
          "data": {
            "image/png": "[encoded data removed]",
            "text/plain": [
              "<Figure size 432x288 with 1 Axes>"
            ]
          },
          "metadata": {
            "tags": []
          }
        },
        {
          "output_type": "display_data",
          "data": {
            "image/png": "[encoded data removed]",
            "text/plain": [
              "<Figure size 432x288 with 1 Axes>"
            ]
          },
          "metadata": {
            "tags": []
          }
        },
        {
          "output_type": "display_data",
          "data": {
            "image/png": "[encoded data removed]",
            "text/plain": [
              "<Figure size 432x288 with 1 Axes>"
            ]
          },
          "metadata": {
            "tags": []
          }
        }
      ]
    },
    {
      "cell_type": "code",
      "metadata": {
        "id": "l4nA1HB3UsxL",
        "colab_type": "code",
        "colab": {}
      },
      "source": [
        ""
      ],
      "execution_count": 0,
      "outputs": []
    }
  ]
}